{
  "nbformat": 4,
  "nbformat_minor": 0,
  "metadata": {
    "colab": {
      "name": "Project3.ipynb",
      "provenance": [],
      "collapsed_sections": []
    },
    "kernelspec": {
      "name": "python3",
      "display_name": "Python 3"
    }
  },
  "cells": [
    {
      "cell_type": "code",
      "metadata": {
        "id": "3Gf33sm_1x-I",
        "colab_type": "code",
        "outputId": "eb98afba-3f9a-405d-9c51-767c802edd94",
        "colab": {
          "base_uri": "https://localhost:8080/",
          "height": 72
        }
      },
      "source": [
        "# Import the pandas package, then use the \"read_csv\" function to read\n",
        "# the labeled training data\n",
        "import random\n",
        "import numpy as np\n",
        "import matplotlib.pyplot as plt\n",
        "import platform\n",
        "import pdb \n",
        "import math\n",
        "import pandas as pd       \n",
        "\n",
        "train = pd.read_csv(\"train.tsv\", header=0, \\\n",
        "                    delimiter=\"\\t\", quoting=3)\n",
        "\n",
        "train.shape\n",
        "train.columns.values\n",
        "print (set(train[\"Sentiment\"]))\n",
        "print (train.shape)\n",
        "print(train[\"Phrase\"][1])"
      ],
      "execution_count": 83,
      "outputs": [
        {
          "output_type": "stream",
          "text": [
            "{0, 1, 2, 3, 4}\n",
            "(156060, 4)\n",
            "A series of escapades demonstrating the adage that what is good for the goose\n"
          ],
          "name": "stdout"
        }
      ]
    },
    {
      "cell_type": "code",
      "metadata": {
        "id": "d6bjftDlGMnB",
        "colab_type": "code",
        "outputId": "f92008e1-c648-4685-ee6e-f1889bff3e9e",
        "colab": {
          "base_uri": "https://localhost:8080/",
          "height": 74
        }
      },
      "source": [
        "# Import BeautifulSoup into your workspace\n",
        "from bs4 import BeautifulSoup             \n",
        "\n",
        "# Initialize the BeautifulSoup object on a single movie review     \n",
        "example1 = BeautifulSoup(train[\"Phrase\"][0])  \n",
        "\n",
        "# Print the raw review and then the output of get_text(), for \n",
        "# comparison\n",
        "print (train[\"Phrase\"][0])\n",
        "print (example1.get_text())"
      ],
      "execution_count": 6,
      "outputs": [
        {
          "output_type": "stream",
          "text": [
            "A series of escapades demonstrating the adage that what is good for the goose is also good for the gander , some of which occasionally amuses but none of which amounts to much of a story .\n",
            "A series of escapades demonstrating the adage that what is good for the goose is also good for the gander , some of which occasionally amuses but none of which amounts to much of a story .\n"
          ],
          "name": "stdout"
        }
      ]
    },
    {
      "cell_type": "code",
      "metadata": {
        "id": "FG203Uo6GYWZ",
        "colab_type": "code",
        "outputId": "eec210a6-acbd-4420-9710-a28d2d920302",
        "colab": {
          "base_uri": "https://localhost:8080/",
          "height": 55
        }
      },
      "source": [
        "import re\n",
        "# Use regular expressions to do a find-and-replace\n",
        "letters_only = re.sub(\"[^a-zA-Z]\",           # The pattern to search for\n",
        "                      \" \",                   # The pattern to replace it with\n",
        "                      example1.get_text() )  # The text to search\n",
        "print (letters_only)\n",
        "lower_case = letters_only.lower()        # Convert to lower case\n",
        "words = lower_case.split()               # Split into words\n"
      ],
      "execution_count": 7,
      "outputs": [
        {
          "output_type": "stream",
          "text": [
            "A series of escapades demonstrating the adage that what is good for the goose is also good for the gander   some of which occasionally amuses but none of which amounts to much of a story  \n"
          ],
          "name": "stdout"
        }
      ]
    },
    {
      "cell_type": "code",
      "metadata": {
        "id": "mqhPyW0BHDVs",
        "colab_type": "code",
        "outputId": "c248c0ef-4219-43fa-9471-d6f3ea059c80",
        "colab": {
          "base_uri": "https://localhost:8080/",
          "height": 111
        }
      },
      "source": [
        "import nltk\n",
        "nltk.download('stopwords')  # Download text data sets, including stop words\n",
        "from nltk.corpus import stopwords # Import the stop word list\n",
        "print (stopwords.words(\"english\") )\n",
        "# Remove stop words from \"words\"\n",
        "words = [w for w in words if not w in stopwords.words(\"english\")]\n",
        "print (words)"
      ],
      "execution_count": 8,
      "outputs": [
        {
          "output_type": "stream",
          "text": [
            "[nltk_data] Downloading package stopwords to /root/nltk_data...\n",
            "[nltk_data]   Unzipping corpora/stopwords.zip.\n",
            "['i', 'me', 'my', 'myself', 'we', 'our', 'ours', 'ourselves', 'you', \"you're\", \"you've\", \"you'll\", \"you'd\", 'your', 'yours', 'yourself', 'yourselves', 'he', 'him', 'his', 'himself', 'she', \"she's\", 'her', 'hers', 'herself', 'it', \"it's\", 'its', 'itself', 'they', 'them', 'their', 'theirs', 'themselves', 'what', 'which', 'who', 'whom', 'this', 'that', \"that'll\", 'these', 'those', 'am', 'is', 'are', 'was', 'were', 'be', 'been', 'being', 'have', 'has', 'had', 'having', 'do', 'does', 'did', 'doing', 'a', 'an', 'the', 'and', 'but', 'if', 'or', 'because', 'as', 'until', 'while', 'of', 'at', 'by', 'for', 'with', 'about', 'against', 'between', 'into', 'through', 'during', 'before', 'after', 'above', 'below', 'to', 'from', 'up', 'down', 'in', 'out', 'on', 'off', 'over', 'under', 'again', 'further', 'then', 'once', 'here', 'there', 'when', 'where', 'why', 'how', 'all', 'any', 'both', 'each', 'few', 'more', 'most', 'other', 'some', 'such', 'no', 'nor', 'not', 'only', 'own', 'same', 'so', 'than', 'too', 'very', 's', 't', 'can', 'will', 'just', 'don', \"don't\", 'should', \"should've\", 'now', 'd', 'll', 'm', 'o', 're', 've', 'y', 'ain', 'aren', \"aren't\", 'couldn', \"couldn't\", 'didn', \"didn't\", 'doesn', \"doesn't\", 'hadn', \"hadn't\", 'hasn', \"hasn't\", 'haven', \"haven't\", 'isn', \"isn't\", 'ma', 'mightn', \"mightn't\", 'mustn', \"mustn't\", 'needn', \"needn't\", 'shan', \"shan't\", 'shouldn', \"shouldn't\", 'wasn', \"wasn't\", 'weren', \"weren't\", 'won', \"won't\", 'wouldn', \"wouldn't\"]\n",
            "['series', 'escapades', 'demonstrating', 'adage', 'good', 'goose', 'also', 'good', 'gander', 'occasionally', 'amuses', 'none', 'amounts', 'much', 'story']\n"
          ],
          "name": "stdout"
        }
      ]
    },
    {
      "cell_type": "code",
      "metadata": {
        "id": "J_Ez9w6ZHNwb",
        "colab_type": "code",
        "colab": {}
      },
      "source": [
        "def review_to_words( raw_review ):\n",
        "    # Function to convert a raw review to a string of words\n",
        "    # The input is a single string (a raw movie review), and \n",
        "    # the output is a single string (a preprocessed movie review)\n",
        "    #\n",
        "    # 1. Remove HTML\n",
        "    review_text = BeautifulSoup(raw_review).get_text() \n",
        "    #\n",
        "    # 2. Remove non-letters        \n",
        "    letters_only = re.sub(\"[^a-zA-Z]\", \" \", review_text) \n",
        "    #\n",
        "    # 3. Convert to lower case, split into individual words\n",
        "    words = letters_only.lower().split()                             \n",
        "    #\n",
        "    # 4. In Python, searching a set is much faster than searching\n",
        "    #   a list, so convert the stop words to a set\n",
        "    stops = set(stopwords.words(\"english\"))                  \n",
        "    # \n",
        "    # 5. Remove stop words\n",
        "    meaningful_words = [w for w in words if not w in stops]   \n",
        "    #\n",
        "    # 6. Join the words back into one string separated by space, \n",
        "    # and return the result.\n",
        "    return( \" \".join( meaningful_words ))  \n",
        "    clean_review = review_to_words( train[\"review\"][0] )\n",
        "    print (clean_review)\n",
        " \n"
      ],
      "execution_count": 0,
      "outputs": []
    },
    {
      "cell_type": "code",
      "metadata": {
        "id": "k9I1hK7DJEww",
        "colab_type": "code",
        "colab": {
          "base_uri": "https://localhost:8080/",
          "height": 202
        },
        "outputId": "2311b6ec-64f0-4a51-a9e5-14e481f56f53"
      },
      "source": [
        "\n",
        "\n",
        "# Initialize an empty list to hold the clean reviews\n",
        "clean_train_reviews = []\n",
        "\n",
        "\n",
        "filter_train=train.loc[(train[\"Sentiment\"]==4)|(train[\"Sentiment\"]==0)]\n",
        "print(filter_train.head())\n",
        "\n",
        "# Get the number of reviews based on the dataframe column size\n",
        "num_reviews = filter_train[\"Phrase\"].size\n",
        "print(num_reviews)\n",
        "filter_train = filter_train.reset_index()\n",
        "print(filter_train[\"Phrase\"][1])\n",
        "\n",
        "# Loop over each review; create an index i that goes from 0 to the length\n",
        "# of the movie review list \n",
        "for i in range( 0, num_reviews ):\n",
        "    # Call our function for each one, and add the result to the list of\n",
        "    # clean reviews\n",
        "  \n",
        "    clean_train_reviews.append( review_to_words( filter_train[\"Phrase\"][i] ) )\n",
        "  # print(clean_train_reviews.shape)"
      ],
      "execution_count": 97,
      "outputs": [
        {
          "output_type": "stream",
          "text": [
            "     PhraseId  ...  Sentiment\n",
            "63         64  ...          4\n",
            "66         67  ...          4\n",
            "74         75  ...          4\n",
            "77         78  ...          4\n",
            "101       102  ...          0\n",
            "\n",
            "[5 rows x 4 columns]\n",
            "16278\n",
            "quiet , introspective and entertaining independent\n"
          ],
          "name": "stdout"
        }
      ]
    },
    {
      "cell_type": "code",
      "metadata": {
        "id": "SbnW4YvZJO0U",
        "colab_type": "code",
        "colab": {
          "base_uri": "https://localhost:8080/",
          "height": 183
        },
        "outputId": "202c6e51-2bf7-4ecf-e276-4e2ddb9c9243"
      },
      "source": [
        "print(\"Creating the bag of words...\\n\")\n",
        "from sklearn.feature_extraction.text import CountVectorizer\n",
        "\n",
        "# Initialize the \"CountVectorizer\" object, which is scikit-learn's\n",
        "# bag of words tool.  \n",
        "vectorizer = CountVectorizer(analyzer = \"word\",   \\\n",
        "                             tokenizer = None,    \\\n",
        "                             preprocessor = None, \\\n",
        "                             stop_words = None,   \\\n",
        "                             max_features = 5000) \n",
        "\n",
        "# fit_transform() does two functions: First, it fits the model\n",
        "# and learns the vocabulary; second, it transforms our training data\n",
        "# into feature vectors. The input to fit_transform should be a list of \n",
        "# strings.\n",
        "train_data_features = vectorizer.fit_transform(clean_train_reviews)\n",
        "\n",
        "# Numpy arrays are easy to work with, so convert the result to an \n",
        "# array\n",
        "train_data_features = train_data_features.toarray()\n",
        "print (train_data_features)"
      ],
      "execution_count": 98,
      "outputs": [
        {
          "output_type": "stream",
          "text": [
            "Creating the bag of words...\n",
            "\n",
            "[[0 0 0 ... 0 0 0]\n",
            " [0 0 0 ... 0 0 0]\n",
            " [0 0 0 ... 0 0 0]\n",
            " ...\n",
            " [0 0 0 ... 0 0 0]\n",
            " [0 0 0 ... 0 0 0]\n",
            " [0 0 0 ... 0 0 0]]\n"
          ],
          "name": "stdout"
        }
      ]
    },
    {
      "cell_type": "code",
      "metadata": {
        "id": "fPCSl2u-JUqt",
        "colab_type": "code",
        "outputId": "2928679f-2642-4a4a-b1d7-37daf1c0def2",
        "colab": {
          "base_uri": "https://localhost:8080/",
          "height": 55
        }
      },
      "source": [
        "# Take a look at the words in the vocabulary\n",
        "vocab = vectorizer.get_feature_names()\n",
        "print (vocab)"
      ],
      "execution_count": 99,
      "outputs": [
        {
          "output_type": "stream",
          "text": [
            "['abandon', 'ability', 'able', 'abroad', 'absolute', 'absolutely', 'absorbing', 'abstract', 'absurd', 'absurdity', 'absurdly', 'abundant', 'academy', 'accents', 'accept', 'acceptable', 'accessible', 'accident', 'accidental', 'acclaim', 'accomplish', 'accomplished', 'accomplishes', 'accomplishment', 'accomplishments', 'account', 'accurate', 'ace', 'acerbic', 'ache', 'achievement', 'achieves', 'achingly', 'across', 'act', 'acted', 'acting', 'action', 'activities', 'actor', 'actors', 'actress', 'actresses', 'acts', 'actual', 'actually', 'acute', 'adam', 'adaptation', 'adaptations', 'adapted', 'add', 'added', 'adding', 'addition', 'adds', 'admirable', 'admire', 'admission', 'admit', 'adolescent', 'adorably', 'adorns', 'adrenalin', 'adrenaline', 'adult', 'adults', 'adventure', 'adventures', 'adventurous', 'advised', 'aerial', 'aesthetic', 'affair', 'affected', 'affecting', 'affection', 'affirming', 'affirms', 'affleck', 'afraid', 'african', 'afterwards', 'age', 'agency', 'agenda', 'agent', 'ages', 'aggrandizing', 'aggressively', 'aging', 'agitprop', 'ago', 'agonizing', 'ah', 'ahead', 'aids', 'ailments', 'aimed', 'aimless', 'aimlessly', 'aims', 'air', 'airless', 'aisle', 'album', 'alike', 'alive', 'allegory', 'allen', 'allow', 'allowed', 'allows', 'alluring', 'almost', 'alone', 'along', 'already', 'also', 'alternately', 'although', 'altogether', 'always', 'amalgam', 'amateur', 'amateurish', 'amaze', 'amazing', 'amazingly', 'ambiguous', 'ambition', 'ambitious', 'america', 'american', 'americans', 'amiable', 'amid', 'among', 'amount', 'amounts', 'amused', 'amusement', 'amusing', 'amy', 'anakin', 'analysis', 'analyze', 'anchored', 'anchors', 'anderson', 'andie', 'anemic', 'angst', 'animal', 'animated', 'animation', 'anime', 'anna', 'annals', 'anne', 'annoying', 'another', 'answers', 'anti', 'antic', 'anticipated', 'antics', 'antonio', 'antwone', 'anybody', 'anyone', 'anything', 'apart', 'apex', 'aplenty', 'aplomb', 'apocalypse', 'appalling', 'apparent', 'apparently', 'appeal', 'appealing', 'appeals', 'appear', 'appearing', 'appears', 'appreciate', 'appreciated', 'approach', 'approached', 'arbitrarily', 'archive', 'area', 'argentine', 'argentinian', 'arguably', 'argue', 'argument', 'armed', 'around', 'array', 'arrogant', 'art', 'artful', 'artfully', 'artifice', 'artificial', 'artist', 'artistes', 'artistic', 'artistry', 'artists', 'artless', 'arts', 'artsy', 'artworks', 'ascends', 'ashley', 'asian', 'aside', 'ask', 'asks', 'asleep', 'aspect', 'aspects', 'asphalt', 'assassination', 'assault', 'assembled', 'assumes', 'assurance', 'assured', 'astonish', 'astonishing', 'astonishingly', 'astounding', 'astoundingly', 'astronomically', 'athletes', 'atlantic', 'atmosphere', 'atmospherics', 'atrocious', 'atrociously', 'attal', 'attempt', 'attempted', 'attempts', 'attention', 'attitude', 'attract', 'attraction', 'attractive', 'audacious', 'audacity', 'audiard', 'audience', 'audiences', 'auditorium', 'australia', 'auteuil', 'authentic', 'authority', 'autobiographical', 'avant', 'avary', 'average', 'avoid', 'avoids', 'awake', 'awakening', 'award', 'awarded', 'awards', 'away', 'awe', 'awed', 'awesome', 'awful', 'awfully', 'awfulness', 'awkward', 'awkwardly', 'awkwardness', 'baaaaaaaaad', 'back', 'backdrops', 'backmasking', 'backstage', 'backward', 'bad', 'badder', 'badly', 'badness', 'baffling', 'bag', 'baked', 'balance', 'balanced', 'ball', 'ballistic', 'ballot', 'ballplayer', 'balzac', 'banal', 'band', 'banderas', 'bang', 'banter', 'bar', 'barbershop', 'barely', 'barf', 'barn', 'baroque', 'barrel', 'barry', 'base', 'based', 'basic', 'basketball', 'battle', 'battlefield', 'beach', 'bear', 'bears', 'beast', 'beat', 'beats', 'beautiful', 'beautifully', 'beauty', 'become', 'becomes', 'becoming', 'begin', 'beginning', 'begins', 'beguiling', 'begun', 'behavior', 'behind', 'behold', 'believability', 'believable', 'believe', 'believing', 'belly', 'belongs', 'beloved', 'belt', 'ben', 'bender', 'beneath', 'benigni', 'besson', 'best', 'betrayal', 'better', 'bewilderingly', 'beyond', 'bible', 'bielinsky', 'big', 'bigger', 'biggest', 'bilked', 'bill', 'billed', 'bio', 'birmingham', 'birot', 'birthday', 'bisset', 'bit', 'bite', 'biting', 'bits', 'bitter', 'bittersweet', 'biz', 'bizarre', 'black', 'blade', 'blair', 'blame', 'bland', 'blandness', 'blank', 'blasphemous', 'blast', 'blatant', 'blaxploitation', 'blazingly', 'bleak', 'bleed', 'blend', 'blind', 'bliss', 'bloated', 'blockbuster', 'blockbusters', 'blonde', 'blood', 'blooded', 'bloody', 'blow', 'blowing', 'blown', 'blue', 'bluescreen', 'blurry', 'bodied', 'body', 'boffo', 'bogs', 'bogus', 'boils', 'boisterous', 'bold', 'boldly', 'bolt', 'bomb', 'bombastic', 'bombshell', 'bond', 'bonding', 'bonds', 'bone', 'book', 'boom', 'boost', 'bordering', 'borderline', 'bore', 'bored', 'boredom', 'boring', 'born', 'bother', 'bottom', 'bouncy', 'bound', 'boundaries', 'bourne', 'bowel', 'box', 'boy', 'boys', 'bracing', 'brain', 'brainpower', 'brand', 'brash', 'brave', 'brawny', 'brazen', 'breadth', 'break', 'breaks', 'breakthrough', 'breath', 'breathes', 'breathtaking', 'breathtakingly', 'breezy', 'bride', 'bridge', 'bridget', 'bright', 'brilliance', 'brilliant', 'brilliantly', 'bring', 'bringing', 'brings', 'brisk', 'british', 'britney', 'broiling', 'broke', 'brooklyn', 'brosnan', 'brother', 'brothers', 'brought', 'brow', 'brown', 'bruce', 'bruckheimer', 'brush', 'brushes', 'brutal', 'brutality', 'brutally', 'buck', 'bucked', 'bucket', 'bucks', 'budding', 'buddy', 'budget', 'buffs', 'bugsy', 'build', 'builds', 'built', 'bullets', 'bullock', 'bunch', 'buoyant', 'burger', 'buried', 'burn', 'burningly', 'burns', 'burrito', 'business', 'busy', 'buttons', 'buy', 'buying', 'ca', 'cage', 'caine', 'calamity', 'calculated', 'caliber', 'calibrated', 'call', 'callar', 'called', 'calm', 'came', 'camera', 'camouflage', 'camouflaging', 'camp', 'campus', 'cancer', 'candid', 'candy', 'canny', 'canvas', 'capable', 'caper', 'capra', 'captivated', 'captivating', 'capture', 'captures', 'capturing', 'car', 'cardboard', 'care', 'cared', 'career', 'careers', 'careful', 'carefully', 'cares', 'caring', 'carmen', 'carol', 'carrey', 'carried', 'carries', 'cartoon', 'carved', 'carvey', 'case', 'cash', 'cast', 'casting', 'casts', 'casual', 'cat', 'caterer', 'caught', 'cause', 'cautionary', 'celebrated', 'celebrates', 'celebration', 'celluloid', 'center', 'centering', 'central', 'century', 'cerebral', 'certain', 'certainly', 'certified', 'cesspool', 'chabrol', 'challenging', 'chamber', 'champion', 'chan', 'chance', 'chances', 'change', 'changes', 'changing', 'channel', 'chaotic', 'character', 'characterization', 'characterizations', 'characters', 'charge', 'charged', 'charisma', 'charismatic', 'charles', 'charlie', 'charm', 'charmer', 'charming', 'charmless', 'charms', 'chase', 'chatter', 'cheap', 'cheaper', 'cheat', 'check', 'cheeky', 'cheer', 'cheese', 'cheesier', 'cheesiest', 'cheesy', 'chefs', 'chelsea', 'chemistry', 'chick', 'chief', 'child', 'childhood', 'childlike', 'children', 'chilling', 'chills', 'chilly', 'china', 'chinese', 'cho', 'choice', 'choices', 'choose', 'chooses', 'choppy', 'choreographed', 'chosen', 'chou', 'chris', 'christian', 'christmas', 'christopher', 'churn', 'cia', 'cinema', 'cinemantic', 'cinematic', 'cinematography', 'circuit', 'city', 'clams', 'claptrap', 'clarity', 'clashing', 'class', 'classic', 'classical', 'classics', 'classify', 'clause', 'claustrophobic', 'clear', 'clearly', 'cletis', 'clever', 'cleverest', 'cleverly', 'cleverness', 'cliche', 'cliched', 'cliches', 'climax', 'cling', 'clinic', 'clockstoppers', 'close', 'closer', 'closing', 'clown', 'cloying', 'clue', 'clueless', 'cluelessness', 'clumsily', 'clumsy', 'co', 'cobbled', 'code', 'coen', 'coffee', 'coherent', 'coheres', 'cohesion', 'cohesive', 'cold', 'coldest', 'collapse', 'collapses', 'collection', 'collective', 'collectively', 'college', 'color', 'colorful', 'colour', 'coloured', 'columbia', 'column', 'com', 'coma', 'combination', 'combine', 'combined', 'combines', 'come', 'comedic', 'comedies', 'comedy', 'comes', 'comfort', 'comfortable', 'comic', 'coming', 'comment', 'commentary', 'commerce', 'commercial', 'commercialism', 'committed', 'common', 'communal', 'communicates', 'community', 'companionship', 'company', 'compared', 'comparison', 'compassion', 'compassionate', 'compelling', 'compellingly', 'compensate', 'competent', 'complete', 'completely', 'complex', 'complexities', 'complexity', 'complexly', 'complicated', 'complications', 'composed', 'compressed', 'compromise', 'computer', 'con', 'conceit', 'conceive', 'conceived', 'concentrates', 'concept', 'conception', 'concerned', 'concert', 'concession', 'conclusion', 'concoction', 'condescending', 'condescension', 'condition', 'conduct', 'confident', 'confined', 'conflict', 'confused', 'confusing', 'connect', 'conscious', 'consciously', 'consider', 'considerable', 'considered', 'considering', 'consistent', 'consistently', 'constant', 'constantly', 'construct', 'constructed', 'contains', 'contemporary', 'content', 'contentedly', 'contest', 'context', 'continuation', 'continues', 'contrast', 'contribution', 'contrived', 'control', 'controlled', 'controversial', 'controversy', 'contructed', 'convenient', 'conventional', 'conventions', 'conversations', 'convey', 'conveying', 'conviction', 'convictions', 'convince', 'convinced', 'convincing', 'convoluted', 'cool', 'cooly', 'cooper', 'cop', 'copycat', 'core', 'corner', 'corners', 'corny', 'cost', 'costly', 'costume', 'costumes', 'could', 'count', 'country', 'couple', 'coupled', 'courage', 'course', 'court', 'courtesy', 'cover', 'covers', 'cows', 'crack', 'crackles', 'craft', 'crafted', 'craftsmanship', 'craftsmen', 'crafty', 'cram', 'cranky', 'crap', 'crass', 'crave', 'crawl', 'crazy', 'create', 'created', 'creates', 'creating', 'creation', 'creations', 'creative', 'creativity', 'creators', 'credibility', 'credible', 'credit', 'credits', 'credulous', 'creek', 'creepy', 'crew', 'crime', 'crimes', 'cringe', 'crippled', 'crisis', 'crisp', 'critic', 'critical', 'critics', 'cronenberg', 'cross', 'crossroads', 'crowd', 'crucial', 'crude', 'cruel', 'crummy', 'crush', 'cry', 'cuisine', 'culkin', 'cult', 'cultural', 'culture', 'cultures', 'cup', 'cure', 'curiosity', 'curious', 'curmudgeon', 'curse', 'curves', 'cushion', 'cut', 'cute', 'cutesy', 'cuts', 'cutting', 'cynical', 'dahmer', 'daily', 'damage', 'damaged', 'damme', 'damn', 'damned', 'damning', 'dance', 'dancing', 'danger', 'dangerous', 'daniel', 'dare', 'daring', 'dark', 'darkly', 'dash', 'dashing', 'date', 'dates', 'daughter', 'david', 'davis', 'dawson', 'day', 'days', 'dazzle', 'dazzling', 'de', 'dead', 'deadening', 'deadeningly', 'deadly', 'deadpan', 'deal', 'dealing', 'dear', 'dearth', 'death', 'deathly', 'deaths', 'debate', 'debut', 'decade', 'decades', 'decent', 'deception', 'deceptively', 'decided', 'decidedly', 'deeds', 'deep', 'deeper', 'deeply', 'defeated', 'defiantly', 'defies', 'defining', 'definitely', 'definition', 'deft', 'deftly', 'defying', 'degenerating', 'degrades', 'degree', 'delectable', 'deliberate', 'delicate', 'delicately', 'delicious', 'deliciously', 'delight', 'delighted', 'delightful', 'delightfully', 'delights', 'deliver', 'delivered', 'delivering', 'delivers', 'delivery', 'demands', 'demons', 'demonstrate', 'demonstrates', 'dentist', 'denying', 'denzel', 'depiction', 'depraved', 'deprecating', 'depressed', 'depressing', 'depressingly', 'depth', 'depths', 'derek', 'derivative', 'derive', 'derived', 'derrida', 'describe', 'deserve', 'deserved', 'deserves', 'deserving', 'desiccated', 'design', 'designed', 'desire', 'despair', 'despairingly', 'desperate', 'desperately', 'despite', 'destination', 'destined', 'destiny', 'destroy', 'destructive', 'detail', 'detailed', 'details', 'determined', 'devastating', 'developed', 'development', 'device', 'devices', 'devoid', 'diabolical', 'dialogue', 'diane', 'diary', 'dicaprio', 'dickens', 'die', 'diesel', 'difference', 'different', 'difficult', 'digital', 'dignity', 'dim', 'dime', 'dimensional', 'dimensions', 'diminishing', 'diop', 'dip', 'diplomacy', 'direct', 'directed', 'directing', 'direction', 'directly', 'director', 'directorial', 'directors', 'directs', 'dirty', 'disappoint', 'disappointed', 'disappointing', 'disappointingly', 'disappointment', 'disappointments', 'disaster', 'disastrous', 'disbelief', 'discarded', 'discipline', 'disconnects', 'discover', 'discovering', 'discovery', 'disdain', 'disguise', 'disguised', 'disguising', 'disgust', 'disgusting', 'dish', 'dishonest', 'disjointed', 'dismantle', 'dismissed', 'disney', 'disorientated', 'display', 'displays', 'disposable', 'distant', 'distasteful', 'distinctive', 'distinguished', 'ditsy', 'dive', 'diverse', 'diversion', 'divine', 'divorce', 'dizzy', 'djeinaba', 'doa', 'docs', 'document', 'documentaries', 'documentary', 'documenting', 'dog', 'dogs', 'dollar', 'dolls', 'done', 'doofus', 'dose', 'doses', 'double', 'doubt', 'dough', 'douglas', 'dover', 'downhill', 'downright', 'doze', 'drab', 'drag', 'dragged', 'dragon', 'dragonfly', 'drags', 'drama', 'dramas', 'dramatic', 'dramatically', 'dramatics', 'drawing', 'drawn', 'draws', 'dreaded', 'dreadful', 'dream', 'dreamed', 'dreamlike', 'dreams', 'dreamy', 'dreary', 'dreck', 'drenched', 'dress', 'dressed', 'drink', 'drivel', 'driven', 'driver', 'drizzle', 'droll', 'droning', 'drooling', 'drop', 'dropping', 'drown', 'drowned', 'drug', 'drugs', 'drumline', 'drunken', 'dry', 'dual', 'dubbed', 'dubious', 'duck', 'dud', 'dude', 'due', 'dull', 'dullest', 'dullness', 'dumb', 'dumbed', 'dumbness', 'dungpile', 'dupe', 'duration', 'dustin', 'duty', 'duvall', 'dv', 'dvd', 'dying', 'dysfunctional', 'eager', 'early', 'earn', 'earned', 'earnest', 'earnestness', 'earplugs', 'ears', 'earth', 'earthly', 'easily', 'easy', 'eat', 'eats', 'eccentric', 'echelons', 'echoes', 'ecks', 'economical', 'ecstasy', 'ed', 'eddie', 'edge', 'edgy', 'edit', 'edited', 'editing', 'edits', 'educates', 'educational', 'eee', 'eerie', 'effect', 'effective', 'effectively', 'effects', 'effort', 'effortless', 'effortlessly', 'efforts', 'eight', 'either', 'elaborate', 'elbows', 'elegance', 'elegant', 'elegantly', 'element', 'elements', 'elephant', 'elevate', 'elizabeth', 'ellen', 'elling', 'eloquent', 'eloquently', 'else', 'elusive', 'embarrassed', 'embarrassingly', 'embarrassment', 'embraced', 'embraces', 'embracing', 'emerge', 'emerges', 'eminently', 'emotion', 'emotional', 'emotionally', 'emotions', 'empathy', 'emphasis', 'empire', 'emptiness', 'empty', 'enchanting', 'encompassing', 'encounter', 'encourage', 'encouraging', 'end', 'endearing', 'endeavor', 'ended', 'ending', 'endless', 'endlessly', 'ends', 'endurance', 'endure', 'enduring', 'energetic', 'energy', 'enervating', 'engage', 'engaged', 'engages', 'engaging', 'english', 'engrossing', 'enhanced', 'enhances', 'enigmatic', 'enjoy', 'enjoyable', 'enjoyably', 'enjoyed', 'enjoying', 'enjoys', 'enlightening', 'enormous', 'enormously', 'enough', 'enriched', 'ensemble', 'enter', 'entered', 'enterprise', 'enters', 'entertain', 'entertained', 'entertaining', 'entertainment', 'enthrall', 'enthralling', 'enthusiasm', 'enthusiastic', 'enticing', 'entire', 'entirely', 'entry', 'enveloping', 'environment', 'environmental', 'epic', 'episode', 'equal', 'equally', 'equilibrium', 'equipment', 'equivalent', 'er', 'era', 'eric', 'erotic', 'error', 'escape', 'escapism', 'especially', 'esque', 'essence', 'essential', 'essentially', 'established', 'ethereal', 'ethics', 'ethnic', 'evans', 'evelyn', 'even', 'evening', 'evenings', 'event', 'events', 'eventual', 'eventually', 'ever', 'evergreen', 'every', 'everybody', 'everyday', 'everyone', 'everything', 'evidence', 'evident', 'evil', 'evocative', 'evokes', 'evoking', 'evolved', 'exact', 'exactly', 'exaggerated', 'examination', 'examine', 'examines', 'example', 'exasperating', 'exceedingly', 'excellent', 'excels', 'except', 'exceptional', 'exceptionally', 'excess', 'excesses', 'excited', 'excitement', 'excites', 'exciting', 'excruciating', 'excruciatingly', 'excuse', 'executed', 'execution', 'executive', 'exercise', 'exhilarating', 'existed', 'existence', 'exit', 'exotic', 'expect', 'expectation', 'expectations', 'expected', 'expense', 'experience', 'experiences', 'experiment', 'expert', 'expertly', 'exploitation', 'exploitative', 'exploiting', 'exploitive', 'exploration', 'explores', 'explosion', 'explosions', 'explosive', 'exposition', 'express', 'expresses', 'expression', 'expressive', 'exquisite', 'exquisitely', 'extended', 'exterior', 'extra', 'extraordinarily', 'extraordinary', 'extravaganza', 'extreme', 'extremely', 'extremes', 'exuberance', 'exuberant', 'eye', 'eyed', 'eyelids', 'eyes', 'eyre', 'fable', 'fabricated', 'fabulous', 'fabulously', 'fabulousness', 'facades', 'face', 'faced', 'facet', 'facetious', 'facile', 'fact', 'factor', 'fade', 'fail', 'failed', 'failing', 'fails', 'failure', 'fairly', 'fairy', 'faith', 'faithful', 'fake', 'fall', 'fallen', 'falls', 'false', 'familiar', 'family', 'famous', 'fan', 'fanciful', 'fancy', 'fans', 'fantasies', 'fantastic', 'fantastically', 'fantasy', 'far', 'farce', 'farcical', 'fare', 'farts', 'fascinate', 'fascinating', 'fashion', 'fashioned', 'fast', 'faster', 'fat', 'fatal', 'fatally', 'fate', 'father', 'favor', 'favorite', 'favourite', 'fear', 'feardotcom', 'fearlessness', 'fears', 'feast', 'feat', 'feature', 'features', 'featuring', 'feces', 'feeder', 'feel', 'feeling', 'feels', 'feet', 'feisty', 'fell', 'fellow', 'felt', 'female', 'feminine', 'feminist', 'ferocity', 'ferrara', 'fessenden', 'festival', 'fi', 'fiction', 'fictional', 'fiennes', 'fiercely', 'fiery', 'fifteen', 'fight', 'fighting', 'fights', 'figure', 'figures', 'fill', 'filled', 'filling', 'fills', 'film', 'filmed', 'filmgoing', 'filming', 'filmmaker', 'filmmakers', 'filmmaking', 'films', 'final', 'finale', 'finally', 'find', 'finding', 'finds', 'fine', 'finely', 'finesse', 'finest', 'finish', 'fire', 'firing', 'first', 'firth', 'fish', 'fisher', 'fisted', 'fit', 'fits', 'fitting', 'five', 'fix', 'fizz', 'flaccid', 'flair', 'flamboyant', 'flash', 'flashbacks', 'flashes', 'flashy', 'flat', 'flatter', 'flavor', 'flawed', 'flawless', 'flaws', 'flick', 'flicks', 'flimsy', 'flop', 'flow', 'fluff', 'fluffy', 'fluid', 'flung', 'fly', 'focus', 'focused', 'folk', 'folks', 'follow', 'following', 'fondness', 'fontaine', 'food', 'footage', 'footnote', 'force', 'forced', 'forceful', 'forcefully', 'forces', 'ford', 'foreign', 'forest', 'forget', 'forgettable', 'forgive', 'forgiven', 'forgiveness', 'forgotten', 'form', 'format', 'formed', 'formula', 'formulaic', 'forster', 'forth', 'foul', 'found', 'four', 'fourth', 'fraction', 'fragmented', 'frailty', 'frame', 'frames', 'france', 'franchise', 'frank', 'frantic', 'freaks', 'free', 'freeman', 'freighter', 'french', 'frenetic', 'frequent', 'frequently', 'fresh', 'freshness', 'frida', 'friday', 'friend', 'friendship', 'friendships', 'friggin', 'fright', 'frightening', 'frissons', 'front', 'frozen', 'frustrating', 'frustratingly', 'frustration', 'fulfill', 'fulfilling', 'full', 'fully', 'fun', 'fundamentals', 'funky', 'funnier', 'funniest', 'funniness', 'funny', 'funnybone', 'fused', 'fussing', 'fussy', 'future', 'fuzzy', 'gag', 'gags', 'gai', 'gaiety', 'galled', 'game', 'games', 'gamut', 'gang', 'gangs', 'gangster', 'gaping', 'garbage', 'garde', 'gasp', 'gasping', 'gave', 'gay', 'gear', 'geeks', 'gelati', 'gem', 'gender', 'general', 'generally', 'generals', 'generate', 'generated', 'generates', 'generation', 'generic', 'generosity', 'generous', 'genial', 'genius', 'genre', 'genres', 'gentle', 'gently', 'genuine', 'genuinely', 'george', 'gere', 'geriatric', 'get', 'gets', 'getting', 'ghetto', 'ghost', 'giant', 'gibson', 'giddy', 'gift', 'gifted', 'giggle', 'gimmicky', 'girl', 'girls', 'give', 'given', 'gives', 'giving', 'glaring', 'glass', 'glides', 'glimpse', 'globe', 'globetrotters', 'glorified', 'glorious', 'gloriously', 'glory', 'glossy', 'glover', 'glued', 'go', 'goal', 'goals', 'god', 'godard', 'gods', 'goers', 'goes', 'going', 'golden', 'gone', 'goo', 'good', 'goodfellas', 'goods', 'goofy', 'gorgeous', 'gorgeously', 'gosling', 'got', 'goth', 'grab', 'grace', 'graceful', 'gracefully', 'graceless', 'grad', 'grade', 'gradually', 'graduated', 'graffiti', 'grand', 'grandeur', 'grandkids', 'grandparents', 'grant', 'graphic', 'graphics', 'grasping', 'gratefully', 'gratuitous', 'graves', 'grayish', 'great', 'greater', 'greatest', 'greatly', 'greatness', 'greek', 'green', 'grew', 'grey', 'grief', 'griffiths', 'grin', 'gripping', 'grips', 'gritty', 'gross', 'grotesque', 'ground', 'group', 'grow', 'growing', 'grown', 'grows', 'guaranteed', 'guess', 'guessing', 'guide', 'guillen', 'guilt', 'guilty', 'gullets', 'gulzar', 'gun', 'gunfight', 'guns', 'gut', 'gutless', 'gutsy', 'gutter', 'guy', 'guys', 'gyllenhaal', 'hack', 'hackneyed', 'hair', 'half', 'halfway', 'halfwit', 'hall', 'ham', 'hammy', 'hand', 'handed', 'handled', 'hands', 'handsome', 'haneke', 'hangover', 'haphazard', 'happen', 'happened', 'happening', 'happens', 'happily', 'happiness', 'happy', 'hard', 'harder', 'hardly', 'harrowing', 'harry', 'harsh', 'harvard', 'hastily', 'hate', 'hatred', 'haunting', 'head', 'headed', 'heads', 'heady', 'heal', 'hear', 'heard', 'heart', 'heartache', 'heartbreaking', 'heartbreakingly', 'hearted', 'heartfelt', 'hearts', 'heartwarming', 'heat', 'heated', 'heathers', 'heaven', 'heavy', 'hedonistic', 'heels', 'heightened', 'heights', 'heist', 'held', 'hell', 'helluva', 'help', 'helped', 'helps', 'hennings', 'henry', 'heralds', 'hero', 'heroes', 'heroic', 'heroine', 'herzog', 'hewn', 'hibernation', 'hidden', 'hideously', 'high', 'highest', 'highlight', 'highly', 'highs', 'hilarious', 'hilariously', 'hilary', 'hindered', 'hint', 'hip', 'historical', 'historically', 'history', 'histrionics', 'hit', 'hitchcockian', 'hits', 'hitting', 'hodgepodge', 'hoffman', 'hokey', 'hokum', 'hold', 'holds', 'hole', 'holes', 'holiday', 'hollow', 'holly', 'hollywood', 'holm', 'holocaust', 'holographic', 'homage', 'home', 'honest', 'honestly', 'honesty', 'hong', 'honored', 'hook', 'hoot', 'hop', 'hope', 'hopeful', 'hopefully', 'hopeless', 'hopelessly', 'hopes', 'hoping', 'hopkins', 'horrendously', 'horrible', 'horribly', 'horrifying', 'horror', 'host', 'hostage', 'hot', 'hotel', 'hotter', 'hour', 'hours', 'house', 'howard', 'however', 'hubert', 'huge', 'hugely', 'hugh', 'human', 'humane', 'humanistic', 'humanity', 'humanizing', 'humanly', 'humility', 'humming', 'humor', 'humorless', 'humorous', 'humour', 'hundred', 'hungry', 'hunk', 'hunter', 'huppert', 'hurley', 'hurry', 'hurts', 'husband', 'huston', 'hype', 'hyper', 'hypnotic', 'hypnotically', 'hypocritical', 'hysterics', 'ian', 'ice', 'iceberg', 'icily', 'icon', 'iconoclastic', 'idea', 'idealism', 'idealistic', 'ideas', 'idemoto', 'identity', 'idiocy', 'idiotic', 'idiotically', 'idiots', 'ignored', 'ii', 'iii', 'ilk', 'ill', 'illogical', 'illuminating', 'illustrates', 'image', 'imagery', 'images', 'imagination', 'imaginative', 'imaginatively', 'imagine', 'imax', 'imitation', 'immature', 'immediate', 'immensely', 'immersed', 'impact', 'impassive', 'impeccable', 'impenetrable', 'impersonal', 'impersonation', 'implausible', 'import', 'importance', 'important', 'impossible', 'impressed', 'impression', 'impressive', 'impressively', 'improbable', 'improperly', 'improve', 'improvement', 'improves', 'improvised', 'impulse', 'impulses', 'impulsive', 'inadequately', 'inane', 'inappropriate', 'inarticulate', 'inauthentic', 'inc', 'incessant', 'incinerates', 'inclination', 'include', 'includes', 'including', 'incoherence', 'incoherent', 'incompetent', 'incomprehensible', 'incongruous', 'inconsequential', 'inconsistent', 'incorporate', 'increasingly', 'incredible', 'incredibly', 'indeed', 'indefinitely', 'independent', 'indescribably', 'india', 'indian', 'indication', 'indie', 'indifference', 'individual', 'induce', 'induced', 'inducing', 'inducingly', 'indulgent', 'industry', 'inept', 'ineptly', 'inescapable', 'inescapably', 'inestimable', 'inevitable', 'inexplicable', 'inexplicably', 'infantile', 'infectious', 'infectiously', 'infomercial', 'informative', 'ingenious', 'ingenuity', 'ingredients', 'inhale', 'inimitable', 'initial', 'injects', 'innocence', 'innovation', 'innovative', 'innuendo', 'inoffensive', 'insane', 'insanely', 'insecure', 'inside', 'insight', 'insightful', 'insightfully', 'insights', 'insignificance', 'insipid', 'insistent', 'insomnia', 'inspiration', 'inspirational', 'inspire', 'inspired', 'inspiring', 'instantly', 'instead', 'instincts', 'instructive', 'insufferable', 'insult', 'insulting', 'insultingly', 'insults', 'insurance', 'integrity', 'intellect', 'intellectual', 'intelligence', 'intelligent', 'intelligently', 'intended', 'intense', 'intensely', 'intensity', 'intentionally', 'interaction', 'interest', 'interested', 'interesting', 'interestingly', 'intergalactic', 'interminable', 'intermittently', 'internalized', 'international', 'interviews', 'intimacy', 'intimate', 'intolerable', 'intoxicating', 'intoxication', 'intricate', 'intrigue', 'intriguing', 'introduce', 'introducing', 'introduction', 'inuit', 'invaluable', 'invented', 'invention', 'inventive', 'inventiveness', 'investigate', 'invincible', 'inviting', 'involved', 'involving', 'iranian', 'irish', 'ironic', 'ironically', 'irredeemably', 'irrelevant', 'irreparable', 'irresistible', 'irritating', 'irwin', 'ish', 'isolation', 'israel', 'issue', 'issues', 'italian', 'jack', 'jackass', 'jackie', 'jackson', 'jacques', 'jaded', 'jagjit', 'jake', 'james', 'japanese', 'jar', 'jarring', 'jason', 'jaw', 'jazzy', 'jealousy', 'jean', 'jennifer', 'jerking', 'jerry', 'jessica', 'jewish', 'jim', 'job', 'joel', 'john', 'joke', 'jokes', 'jolt', 'jonah', 'jones', 'journalism', 'journey', 'joy', 'joyless', 'joyous', 'jr', 'judd', 'julia', 'julianne', 'jumble', 'jumbo', 'jumps', 'junior', 'junk', 'justice', 'juvenile', 'juwanna', 'kahlo', 'kalvert', 'kapur', 'kaufman', 'keening', 'keep', 'keeping', 'keeps', 'kennedy', 'kevin', 'key', 'kick', 'kicking', 'kid', 'kiddie', 'kiddies', 'kidman', 'kids', 'kieran', 'kieslowski', 'kill', 'killed', 'killer', 'killing', 'kills', 'kind', 'kindness', 'kinds', 'kinetic', 'kinetically', 'king', 'kinnear', 'kiss', 'kissing', 'kitchen', 'kline', 'knack', 'knees', 'knew', 'know', 'knowing', 'knowledge', 'known', 'knows', 'kong', 'korean', 'kosashvili', 'krawczyk', 'kung', 'kwan', 'labored', 'lack', 'lacking', 'lackluster', 'lacks', 'lady', 'lags', 'lake', 'lame', 'land', 'landing', 'landmark', 'landscape', 'landscapes', 'lane', 'lanes', 'language', 'large', 'largely', 'larger', 'last', 'late', 'later', 'latest', 'latin', 'latter', 'laugh', 'laughable', 'laughably', 'laughed', 'laughing', 'laughs', 'laughter', 'laurice', 'lavish', 'lawrence', 'layered', 'layers', 'laziest', 'lazy', 'lead', 'leaden', 'leads', 'leaks', 'leaky', 'leaps', 'leash', 'least', 'leave', 'leaves', 'leaving', 'lee', 'left', 'legendary', 'leguizamo', 'lends', 'length', 'lengths', 'lengthy', 'lens', 'less', 'lesson', 'lessons', 'let', 'letdown', 'lets', 'letting', 'level', 'levels', 'levy', 'lewis', 'liar', 'liberating', 'liberation', 'librarian', 'lie', 'lies', 'life', 'lifeless', 'lifestyle', 'lifetime', 'lift', 'lifts', 'light', 'lighting', 'lights', 'likable', 'like', 'likeable', 'liked', 'likely', 'limitations', 'limp', 'limply', 'line', 'lines', 'linking', 'lion', 'lips', 'lisping', 'list', 'listen', 'listening', 'listless', 'lit', 'literal', 'literally', 'literary', 'literate', 'littered', 'little', 'liu', 'live', 'lived', 'lively', 'lives', 'living', 'load', 'loads', 'loathsome', 'lobby', 'lobotomy', 'locales', 'locations', 'lodging', 'lofty', 'logic', 'lola', 'long', 'longer', 'longest', 'longing', 'look', 'looked', 'looking', 'looks', 'loopy', 'loose', 'loosely', 'lopez', 'lord', 'lose', 'loser', 'losers', 'loses', 'losing', 'loss', 'losses', 'lost', 'lot', 'lothario', 'lots', 'loud', 'lousy', 'love', 'loveable', 'loved', 'lovely', 'lovers', 'loves', 'loving', 'lovingly', 'low', 'lower', 'lowered', 'lowly', 'lows', 'lrb', 'luck', 'lucy', 'ludicrous', 'lulled', 'lumbering', 'luminous', 'lump', 'lumpy', 'lunacy', 'lunatic', 'lunch', 'lurches', 'luridly', 'lush', 'lust', 'lustrous', 'lynne', 'lyrical', 'lyricism', 'macabre', 'macdowell', 'machine', 'machismo', 'mad', 'maddeningly', 'made', 'madness', 'madonna', 'maelstrom', 'maggie', 'magic', 'magical', 'magnetic', 'magnificent', 'main', 'mainly', 'mainstream', 'maintain', 'maintaining', 'maintains', 'majestic', 'major', 'make', 'maker', 'makers', 'makes', 'making', 'malaise', 'male', 'malkovich', 'mamet', 'man', 'manage', 'manages', 'managing', 'maneuvers', 'manhood', 'manhunter', 'manifesto', 'manipulating', 'manipulation', 'manipulative', 'mann', 'manner', 'mannered', 'manufactured', 'many', 'mapquest', 'marginal', 'mark', 'marked', 'market', 'marks', 'marquis', 'marred', 'marriage', 'mart', 'martha', 'martial', 'martin', 'marvel', 'marvelous', 'marvelously', 'mary', 'masochism', 'mass', 'masses', 'massive', 'master', 'masterful', 'masterfully', 'masterly', 'masterpeice', 'masterpiece', 'match', 'matched', 'material', 'mattei', 'matter', 'mature', 'maturity', 'maudlin', 'may', 'maybe', 'mayhem', 'mcculloch', 'mcgrath', 'mcmullen', 'meal', 'mean', 'meander', 'meandering', 'meanderings', 'meaning', 'meaningful', 'meaningless', 'means', 'meanspirited', 'meara', 'measure', 'measured', 'meat', 'meaty', 'mechanical', 'media', 'medical', 'mediocre', 'mediocrity', 'meditation', 'meditative', 'medium', 'mel', 'melancholy', 'melodrama', 'melodramatic', 'melt', 'melted', 'member', 'members', 'memento', 'memorable', 'memorial', 'memories', 'memory', 'men', 'mendes', 'mental', 'mention', 'mercy', 'mere', 'merely', 'merit', 'meshes', 'mesmerize', 'mesmerizing', 'mess', 'message', 'messages', 'messy', 'metaphor', 'metaphorical', 'metaphysical', 'metropolis', 'metropolitan', 'mexican', 'mexico', 'michael', 'michel', 'mid', 'middle', 'midnight', 'might', 'mika', 'mike', 'mikes', 'mild', 'mildly', 'mile', 'mill', 'miller', 'millions', 'mind', 'minded', 'mindless', 'minds', 'mine', 'ming', 'minimalist', 'minor', 'minority', 'minute', 'minutely', 'minutes', 'mira', 'miracle', 'miraculous', 'miscalculates', 'miscast', 'miserable', 'misery', 'misfire', 'misfiring', 'misguided', 'mishmash', 'misogyny', 'misplaced', 'miss', 'missed', 'missing', 'mistake', 'mistaken', 'misunderstood', 'mix', 'mixed', 'mixture', 'miyazaki', 'mo', 'modem', 'modern', 'modest', 'mojo', 'moment', 'moments', 'momentum', 'money', 'mongering', 'monotonous', 'monster', 'monsters', 'monstrous', 'months', 'monty', 'monumental', 'mood', 'moods', 'moore', 'mopes', 'moral', 'morally', 'morbid', 'morgan', 'morning', 'moron', 'moronic', 'morrison', 'morvern', 'mostly', 'mother', 'mothers', 'motion', 'motivated', 'mouglalis', 'mouse', 'mouth', 'mouthed', 'move', 'movement', 'movements', 'moves', 'movie', 'moviegoers', 'moviegoing', 'moviemakers', 'moviemaking', 'movies', 'moving', 'mr', 'ms', 'mtv', 'much', 'muddle', 'muddled', 'multi', 'multilayered', 'multiple', 'mumbo', 'murder', 'murky', 'murphy', 'mush', 'music', 'musical', 'musicians', 'must', 'mutates', 'mutilating', 'muttering', 'muzak', 'myers', 'myopic', 'mysteries', 'mysterious', 'mystery', 'mystical', 'mythic', 'nair', 'name', 'names', 'namesake', 'narcissism', 'narrative', 'narratively', 'narrator', 'nary', 'nash', 'nasty', 'national', 'natural', 'naturalistic', 'naturally', 'nature', 'natured', 'near', 'nearly', 'neat', 'nebrida', 'necessarily', 'necessary', 'neck', 'need', 'needed', 'needlessly', 'needs', 'negative', 'neither', 'nelson', 'neo', 'nerve', 'never', 'nevertheless', 'new', 'newcomer', 'newfangled', 'news', 'next', 'nice', 'nicely', 'nicest', 'niche', 'niches', 'nicholas', 'nicholson', 'nickleby', 'night', 'nightmare', 'nights', 'niro', 'noble', 'noir', 'noise', 'nominated', 'nomination', 'non', 'nonchalant', 'none', 'nonexistent', 'nonjudgmental', 'nonsense', 'nonsensical', 'nonstop', 'nose', 'nostalgia', 'nostalgic', 'notable', 'notch', 'note', 'notes', 'noteworthy', 'nothing', 'notice', 'notion', 'nourishing', 'novel', 'novels', 'nowhere', 'noyce', 'nuance', 'nuanced', 'number', 'numbers', 'numbing', 'numbingly', 'objective', 'obligatory', 'obnoxious', 'obscenely', 'observant', 'observation', 'observations', 'obsession', 'obsessive', 'obvious', 'obviously', 'occasionally', 'odd', 'oddly', 'odds', 'ode', 'odor', 'odoriferous', 'oedekerk', 'offbeat', 'offend', 'offensive', 'offer', 'offering', 'offers', 'office', 'often', 'oh', 'old', 'older', 'one', 'ones', 'onscreen', 'onto', 'oozing', 'opaque', 'open', 'opened', 'opening', 'openness', 'opens', 'opera', 'operates', 'operative', 'opportunities', 'opportunity', 'opposite', 'oppressively', 'oprah', 'ops', 'optimistic', 'option', 'orchestrating', 'ordeal', 'order', 'ordinary', 'orgy', 'oriented', 'original', 'originality', 'orlando', 'oscar', 'others', 'otherwise', 'ounce', 'outage', 'outcome', 'outer', 'outrageous', 'outside', 'outstanding', 'overall', 'overbearing', 'overblown', 'overcome', 'overdoing', 'overexposed', 'overflowing', 'overflows', 'overkill', 'overlong', 'overly', 'overplayed', 'overproduced', 'overripe', 'overrun', 'overwhelming', 'overwritten', 'overwrought', 'pace', 'paced', 'pacing', 'pacino', 'pack', 'package', 'packed', 'pact', 'page', 'paid', 'painful', 'painfully', 'pains', 'paint', 'painted', 'painterly', 'painting', 'paintings', 'paints', 'pair', 'palatable', 'pale', 'palette', 'pallid', 'palpable', 'panache', 'pandering', 'panoramic', 'pantheon', 'paper', 'par', 'parable', 'paradiso', 'paranoia', 'parent', 'parents', 'park', 'parker', 'parking', 'parlor', 'parody', 'parrots', 'part', 'particular', 'particularly', 'parts', 'party', 'pass', 'passes', 'passing', 'passion', 'passionate', 'passions', 'past', 'pat', 'path', 'pathetic', 'pathology', 'pathos', 'patience', 'paul', 'pauline', 'pauly', 'paws', 'paxton', 'pay', 'payne', 'payoff', 'peculiar', 'pedestrian', 'pedigree', 'penetrating', 'people', 'peopled', 'peploe', 'peppered', 'perceptive', 'perch', 'perdition', 'perfect', 'perfected', 'perfection', 'perfectly', 'performance', 'performances', 'performed', 'performers', 'perhaps', 'perils', 'period', 'person', 'persona', 'personal', 'personalities', 'personality', 'perspective', 'pertinent', 'perverse', 'pessimistic', 'peter', 'pg', 'phenomenal', 'phillip', 'philosophical', 'phlegmatic', 'phoenix', 'phoney', 'phony', 'photographed', 'photography', 'physical', 'pianist', 'piano', 'pic', 'piccoli', 'pick', 'picked', 'pickup', 'pics', 'picture', 'pictures', 'piece', 'pieces', 'piercing', 'pile', 'pileup', 'pillages', 'pillowcases', 'pilot', 'pinocchio', 'pious', 'pit', 'pitch', 'pitched', 'pitfalls', 'pitiful', 'pitifully', 'pitted', 'pity', 'pizza', 'place', 'placement', 'places', 'plain', 'plainly', 'planet', 'platter', 'play', 'played', 'playful', 'playing', 'plays', 'pleasant', 'please', 'pleaser', 'pleasing', 'pleasurable', 'pleasure', 'pleasures', 'plenty', 'plodding', 'plot', 'plotless', 'plotline', 'plots', 'plotted', 'plotting', 'plummer', 'plunging', 'poem', 'poetic', 'poetry', 'pogue', 'poignancy', 'poignant', 'point', 'pointed', 'pointless', 'points', 'pokemon', 'polanski', 'police', 'polished', 'political', 'politically', 'politics', 'pollution', 'pompeo', 'ponder', 'ponderous', 'poo', 'pool', 'poor', 'poorly', 'pootie', 'pop', 'popcorn', 'popped', 'popping', 'popular', 'populated', 'porridge', 'portions', 'portrait', 'portray', 'portrayal', 'portrays', 'positive', 'positively', 'possibilities', 'possibility', 'possible', 'possibly', 'post', 'postcard', 'potboiler', 'potent', 'potential', 'potentially', 'pounding', 'poverty', 'pow', 'power', 'powerful', 'powerfully', 'powers', 'practically', 'praise', 'pre', 'preachy', 'precious', 'precisely', 'preciseness', 'precision', 'predecessor', 'predicament', 'predict', 'predictable', 'preemptive', 'preferably', 'preliminary', 'premise', 'prepackaged', 'preposterous', 'prescribed', 'presence', 'present', 'presentation', 'presented', 'presents', 'pressed', 'pretend', 'pretends', 'pretension', 'pretentious', 'pretty', 'prevails', 'prevention', 'preview', 'previous', 'previously', 'price', 'pride', 'primarily', 'primary', 'primitive', 'principal', 'prison', 'private', 'privileged', 'pro', 'probably', 'problem', 'problems', 'proceedings', 'process', 'procession', 'produced', 'producer', 'producers', 'product', 'production', 'productions', 'profane', 'professional', 'proficiency', 'profile', 'profound', 'profoundly', 'project', 'projector', 'prolonged', 'prom', 'promise', 'promised', 'promises', 'promising', 'pronounced', 'proof', 'propels', 'proper', 'properly', 'proportions', 'protagonist', 'protagonists', 'proud', 'prove', 'proverbial', 'proves', 'provide', 'provides', 'providing', 'proving', 'provocative', 'provoking', 'pryor', 'pseudo', 'psyche', 'psychological', 'psychologically', 'psychology', 'pub', 'puberty', 'public', 'puddle', 'puerile', 'pull', 'pulling', 'pulls', 'pulp', 'pulpy', 'punch', 'punchlines', 'pungent', 'punishment', 'punny', 'pure', 'purely', 'purer', 'purpose', 'purposeful', 'purposefully', 'push', 'put', 'putrid', 'puts', 'putting', 'puzzling', 'pythonesque', 'quaid', 'qualify', 'quality', 'quarter', 'queen', 'quest', 'questions', 'quick', 'quickly', 'quiet', 'quietly', 'quirks', 'quirky', 'quite', 'quivering', 'race', 'rachel', 'racial', 'racist', 'radiant', 'radiates', 'radical', 'rain', 'raise', 'raised', 'raises', 'raising', 'ralph', 'rambling', 'ramsay', 'randall', 'random', 'rank', 'ranks', 'ransom', 'raped', 'rapes', 'rapid', 'rapt', 'rare', 'rarely', 'rarest', 'rat', 'rate', 'rated', 'rates', 'rather', 'rating', 'rattling', 'raucously', 'raunchy', 'ravishing', 'raw', 'raymond', 'rea', 'reach', 'reached', 'reaching', 'reacting', 'reaction', 'reactionary', 'read', 'reading', 'ready', 'reaffirming', 'real', 'realism', 'realistic', 'reality', 'realize', 'realized', 'realizing', 'really', 'realm', 'reason', 'reasonably', 'reasons', 'received', 'receives', 'recent', 'recently', 'recipe', 'reckless', 'recognized', 'recommend', 'recommendation', 'recommended', 'record', 'recording', 'recovery', 'recreates', 'recycle', 'recycled', 'red', 'redeeming', 'redemption', 'redgrave', 'rediscover', 'redundancy', 'redundant', 'reefs', 'reel', 'reflects', 'refreshed', 'refreshes', 'refreshing', 'refreshingly', 'refusal', 'refuses', 'regain', 'regalia', 'regard', 'regardless', 'regret', 'reign', 'reinvigorated', 'rejected', 'relationship', 'relationships', 'relative', 'relatively', 'relaxed', 'release', 'released', 'releases', 'relentless', 'relentlessly', 'relief', 'relies', 'relying', 'remain', 'remains', 'remake', 'remarkable', 'remarkably', 'remember', 'remembered', 'remembering', 'remind', 'reminded', 'reminder', 'reminds', 'reminiscent', 'remote', 'remotely', 'rendered', 'reno', 'renowned', 'rent', 'reparations', 'repeatedly', 'repetitive', 'replaced', 'replete', 'report', 'represented', 'represents', 'reptilian', 'repugnant', 'repulsive', 'reputation', 'reputedly', 'require', 'required', 'requires', 'rescue', 'resemble', 'resembling', 'resents', 'resist', 'resistance', 'resolutely', 'resonance', 'resonant', 'resourceful', 'respect', 'respectable', 'responsible', 'rest', 'restrained', 'restrictive', 'restroom', 'result', 'results', 'retains', 'retard', 'retitle', 'retread', 'return', 'returns', 'reveal', 'revealing', 'reveals', 'revel', 'revelation', 'revelatory', 'revenge', 'reverent', 'reviews', 'revigorates', 'revisiting', 'revolution', 'revulsion', 'rewarded', 'rewarding', 'rewards', 'rhapsodizes', 'rhythm', 'rhythms', 'rich', 'richard', 'richer', 'richly', 'ridden', 'ride', 'ridiculous', 'ridiculousness', 'rifkin', 'right', 'riled', 'ring', 'rings', 'riot', 'rip', 'ripe', 'ripoff', 'rise', 'rises', 'rising', 'rival', 'river', 'riveted', 'riveting', 'road', 'rob', 'robert', 'roberto', 'roberts', 'robin', 'robust', 'rock', 'rocks', 'rocky', 'rodriguez', 'roger', 'rogue', 'rohmer', 'role', 'roles', 'roll', 'rollerball', 'rollicking', 'rolling', 'roman', 'romance', 'romancer', 'romantic', 'romp', 'room', 'root', 'rooting', 'rose', 'roster', 'rote', 'rotten', 'rouge', 'rough', 'rousing', 'routine', 'row', 'rowdy', 'rowling', 'rrb', 'rude', 'rug', 'ruined', 'rumination', 'run', 'running', 'runs', 'runteldat', 'rural', 'ruse', 'rush', 'rushed', 'russian', 'ryan', 'sack', 'sacrifice', 'sacrificed', 'sad', 'saddens', 'saddest', 'sade', 'sadly', 'sadness', 'safe', 'saga', 'said', 'sake', 'salma', 'salute', 'san', 'sand', 'sandler', 'sandra', 'sane', 'sanity', 'santa', 'sappy', 'saps', 'sara', 'sarandon', 'sassy', 'sat', 'satire', 'satirical', 'satisfied', 'satisfies', 'satisfying', 'satisfyingly', 'saturday', 'savage', 'save', 'saved', 'saving', 'savory', 'savvy', 'saw', 'say', 'saying', 'sayles', 'says', 'scale', 'scarcely', 'scare', 'scary', 'scattered', 'scenario', 'scene', 'scenery', 'scenes', 'scenic', 'schaeffer', 'schedule', 'schizo', 'schizophrenia', 'schmaltz', 'schmaltzy', 'schmidt', 'schmucks', 'schneider', 'schnitzler', 'school', 'schumacher', 'schwarzenegger', 'sci', 'science', 'scientific', 'scientists', 'scooby', 'scooped', 'scooping', 'scope', 'score', 'scores', 'scorn', 'scorsese', 'scott', 'scratch', 'scratching', 'scream', 'screaming', 'screams', 'screen', 'screenful', 'screening', 'screenings', 'screenplay', 'screenplays', 'screenwriter', 'screenwriters', 'screenwriting', 'screwing', 'script', 'scripted', 'scripts', 'scrooge', 'scruffy', 'scum', 'scummy', 'sea', 'seagal', 'sealed', 'seamstress', 'search', 'searching', 'searing', 'season', 'seat', 'seated', 'seats', 'seattle', 'second', 'secondhand', 'seconds', 'secret', 'secretary', 'secrets', 'section', 'sedate', 'see', 'seeing', 'seek', 'seeking', 'seem', 'seeming', 'seemingly', 'seems', 'seen', 'sees', 'segal', 'seinfeld', 'selby', 'selection', 'self', 'sell', 'semen', 'semi', 'semimusical', 'semitism', 'send', 'sensational', 'sensationalism', 'sense', 'senseless', 'senses', 'sensibility', 'sensitive', 'sensitivity', 'sensual', 'sensuality', 'sentence', 'sentiment', 'sentimental', 'sentimentality', 'separation', 'september', 'septic', 'sequel', 'sequels', 'sequence', 'sequences', 'serenity', 'serials', 'series', 'serious', 'seriously', 'serpent', 'serrault', 'serve', 'served', 'serves', 'service', 'serving', 'set', 'setpieces', 'sets', 'setting', 'settles', 'setups', 'seven', 'sever', 'several', 'severe', 'sewage', 'sewing', 'sex', 'sexist', 'sexual', 'sexually', 'sexy', 'shabby', 'shadow', 'shadows', 'shaggy', 'shake', 'shakespeare', 'shakesperean', 'shallow', 'shambles', 'shame', 'shameless', 'shamelessly', 'shanghai', 'shape', 'shaped', 'shapeless', 'shapes', 'share', 'shared', 'sharp', 'sharply', 'shattering', 'shedding', 'sheer', 'sheerly', 'shekhar', 'shelf', 'shenanigans', 'shifting', 'shimmering', 'shimmeringly', 'shindler', 'shine', 'shines', 'shining', 'ship', 'shiri', 'shiver', 'shivers', 'shmear', 'shock', 'shocking', 'shockingly', 'shockwaves', 'shoddy', 'shoot', 'shooting', 'shoots', 'shore', 'short', 'shorter', 'shot', 'shots', 'shout', 'shovel', 'show', 'showcase', 'showcases', 'showgirls', 'shown', 'shows', 'showtime', 'shred', 'shrewd', 'shrill', 'shtick', 'shudder', 'shyamalan', 'sick', 'sickening', 'side', 'sides', 'sideshow', 'sight', 'sights', 'sign', 'significance', 'significant', 'significantly', 'signs', 'silliness', 'silly', 'silver', 'similar', 'similarly', 'simone', 'simple', 'simplistic', 'simply', 'simulate', 'simultaneously', 'sin', 'since', 'sincere', 'sincerely', 'sincerity', 'singer', 'singh', 'singing', 'single', 'singular', 'sinister', 'sink', 'sinks', 'sisterhood', 'sisters', 'sit', 'sitcom', 'sits', 'sitting', 'situation', 'situations', 'siuation', 'six', 'sized', 'sketchy', 'skewed', 'skidding', 'skies', 'skilfully', 'skill', 'skillful', 'skillfully', 'skills', 'skin', 'skins', 'skip', 'skirts', 'skulls', 'skyscraper', 'slack', 'slackers', 'slam', 'slanted', 'slap', 'slapdash', 'slapstick', 'sleep', 'sleepless', 'sleeve', 'slice', 'slight', 'slightest', 'slightly', 'slo', 'slog', 'sloppily', 'sloppy', 'slovenly', 'slow', 'slowly', 'sluggish', 'small', 'smart', 'smarter', 'smartest', 'smartly', 'smash', 'smile', 'smiles', 'smirk', 'smith', 'smooth', 'smoothly', 'smug', 'snail', 'snake', 'snappy', 'sneak', 'sneaks', 'sneaky', 'snipes', 'snooze', 'snore', 'snow', 'soap', 'soar', 'soars', 'sobering', 'social', 'socially', 'soderbergh', 'soft', 'soggy', 'solaris', 'soldiers', 'solid', 'solidly', 'solutions', 'somber', 'somebody', 'someday', 'somehow', 'someone', 'something', 'sometimes', 'somewhat', 'somewhere', 'son', 'song', 'songs', 'soon', 'soothing', 'sophie', 'sophisticated', 'sophomoric', 'sordid', 'sorority', 'sorrowful', 'sorry', 'sort', 'sorvino', 'soul', 'soulful', 'soulless', 'souls', 'sound', 'sounds', 'soundtrack', 'sour', 'source', 'south', 'space', 'spader', 'spare', 'spark', 'sparkles', 'sparkling', 'speak', 'speaking', 'spears', 'special', 'specifically', 'specimen', 'spectacle', 'spectacular', 'spectacularly', 'speedy', 'spell', 'spellbinding', 'spend', 'spent', 'spews', 'spice', 'spider', 'spielberg', 'spike', 'spill', 'spin', 'spine', 'spinning', 'spins', 'spirit', 'spirited', 'spiritless', 'spirits', 'spiritual', 'spirituality', 'spite', 'spiteful', 'splash', 'splendid', 'splendor', 'split', 'spoof', 'spookiness', 'spooky', 'sporting', 'sports', 'sportsmen', 'spot', 'spotlight', 'sprightly', 'spring', 'sprung', 'spry', 'spy', 'squandering', 'squarely', 'squashed', 'squeeze', 'squirm', 'st', 'stable', 'stage', 'staged', 'staggeringly', 'stale', 'stalls', 'stand', 'standard', 'standards', 'standout', 'stands', 'stanley', 'star', 'staring', 'starring', 'stars', 'start', 'started', 'startling', 'starts', 'starving', 'stately', 'static', 'station', 'stature', 'status', 'stay', 'stays', 'steady', 'steal', 'stealing', 'steeped', 'stein', 'stellar', 'step', 'stephen', 'stepped', 'stereotypes', 'stereotypical', 'sterling', 'steve', 'steven', 'stick', 'sticking', 'sticks', 'stiff', 'stifles', 'stiflingly', 'still', 'stilted', 'stimulating', 'stinker', 'stinks', 'stirring', 'stitch', 'stitched', 'stock', 'stocked', 'stomach', 'stone', 'stonehenge', 'stoop', 'stooping', 'stop', 'store', 'stories', 'story', 'storyline', 'storylines', 'storytelling', 'straight', 'straightforward', 'strain', 'strange', 'strangely', 'strangers', 'street', 'streets', 'strength', 'stretches', 'strict', 'strikes', 'striking', 'string', 'stripped', 'strong', 'strongest', 'strongly', 'struck', 'structured', 'struggle', 'struggled', 'struggles', 'strung', 'stuck', 'studio', 'studios', 'study', 'stuff', 'stuffiest', 'stunning', 'stunningly', 'stunt', 'stunts', 'stupid', 'stupidity', 'sturdiest', 'style', 'styles', 'stylish', 'stylist', 'stylistic', 'stylists', 'sub', 'subculture', 'subject', 'subjects', 'sublime', 'sublimely', 'submarine', 'subordinate', 'substance', 'substances', 'substantial', 'subtext', 'subtitles', 'subtle', 'subtlest', 'subtlety', 'subtly', 'subversive', 'subzero', 'succeed', 'succeeded', 'succeeds', 'success', 'successful', 'successfully', 'succumb', 'succumbs', 'suck', 'sucked', 'sucks', 'suffer', 'suffered', 'suffering', 'suffers', 'suffocating', 'sugar', 'suggesting', 'suggestive', 'suggests', 'suit', 'suited', 'sum', 'summer', 'summertime', 'sumptuous', 'sun', 'sundance', 'super', 'superb', 'superbly', 'superficial', 'superficiality', 'superfluous', 'superior', 'supply', 'supporting', 'supposed', 'supremely', 'sure', 'surefire', 'surely', 'surface', 'surfing', 'surplus', 'surprise', 'surprised', 'surprises', 'surprising', 'surprisingly', 'surreal', 'surrender', 'surrounding', 'survivable', 'survival', 'survivors', 'susan', 'suspect', 'suspects', 'suspense', 'suspenseful', 'sustain', 'sustained', 'sustenance', 'swan', 'swashbucklers', 'sway', 'swear', 'sweaty', 'sweeping', 'sweet', 'sweetest', 'sweetheart', 'sweetly', 'sweetness', 'swept', 'swim', 'swinging', 'switching', 'swooping', 'symbolism', 'sympathetic', 'sympathy', 'system', 'systematically', 'table', 'tackles', 'tackling', 'tactic', 'tag', 'tagline', 'take', 'taken', 'takes', 'taking', 'tale', 'talent', 'talented', 'talents', 'talk', 'talking', 'talky', 'tang', 'tank', 'tap', 'tarantino', 'target', 'taste', 'tasteful', 'tastelessness', 'tasty', 'taut', 'tawdry', 'taxi', 'tea', 'teacher', 'team', 'teams', 'tear', 'tears', 'technical', 'technically', 'technology', 'tedious', 'tediously', 'teeming', 'teen', 'teenage', 'teenagers', 'teeth', 'teleprompter', 'television', 'tell', 'telling', 'tells', 'tender', 'tenderness', 'tense', 'tension', 'tequila', 'term', 'terminally', 'terms', 'terrible', 'terribly', 'terrific', 'terrifically', 'terrifying', 'territory', 'test', 'testament', 'testimony', 'testud', 'text', 'texture', 'th', 'thanks', 'theater', 'theaters', 'theatre', 'theatres', 'theatrical', 'thematic', 'thematically', 'theme', 'themes', 'therapy', 'thick', 'thin', 'thing', 'things', 'think', 'thinking', 'thinks', 'thinness', 'third', 'thirteen', 'thirty', 'thomas', 'thoroughly', 'though', 'thought', 'thoughtful', 'thoughtfully', 'thousand', 'threadbare', 'three', 'threw', 'thrill', 'thriller', 'thrillers', 'thrilling', 'thrills', 'throat', 'throughout', 'throwing', 'thrown', 'throws', 'thumbs', 'thurman', 'ticket', 'tickets', 'ticking', 'tickles', 'tie', 'tied', 'tight', 'tightrope', 'time', 'timeless', 'timely', 'timer', 'times', 'timing', 'tiny', 'tired', 'tiresome', 'title', 'titled', 'titles', 'titular', 'today', 'together', 'toilet', 'told', 'tolerable', 'tolkien', 'tom', 'tomorrow', 'ton', 'tone', 'tongue', 'took', 'tool', 'top', 'topic', 'topical', 'tortuous', 'torture', 'tortured', 'toss', 'tosses', 'total', 'totally', 'touch', 'touched', 'touches', 'touching', 'tough', 'tour', 'tout', 'toward', 'town', 'trace', 'tract', 'trademark', 'tradition', 'traditional', 'traffic', 'tragedies', 'tragedy', 'tragic', 'tragically', 'trailer', 'transcend', 'transcendence', 'transcendent', 'transcends', 'transform', 'transformed', 'transforms', 'translation', 'transparently', 'trapeze', 'trapped', 'traps', 'trash', 'trashy', 'travel', 'travesty', 'treasure', 'treasured', 'treat', 'treatment', 'treats', 'trees', 'trek', 'tremendous', 'tremendously', 'tribute', 'trick', 'tricks', 'tried', 'tries', 'trifecta', 'trip', 'tripe', 'trite', 'triteness', 'triumph', 'triumphant', 'trots', 'trouble', 'truck', 'true', 'truly', 'truth', 'truthful', 'try', 'trying', 'tsai', 'tug', 'tumbleweeds', 'tunney', 'turd', 'turf', 'turn', 'turned', 'turner', 'turning', 'turns', 'tuxedo', 'tv', 'twenty', 'twice', 'twist', 'twisted', 'twisting', 'twists', 'twisty', 'twitchy', 'two', 'tykwer', 'type', 'typical', 'ugliness', 'ugly', 'ultimate', 'ultimately', 'ultra', 'un', 'unabashed', 'unabashedly', 'unable', 'unadorned', 'unamusing', 'unappealing', 'unassuming', 'unbearable', 'unbearably', 'unbelievable', 'unbridled', 'uncharted', 'unchecked', 'uncle', 'uncomfortable', 'uncommonly', 'uncompromising', 'unconventional', 'unconvincing', 'uncouth', 'uncreative', 'undead', 'undeniable', 'undeniably', 'undercut', 'underlay', 'underneath', 'underrehearsed', 'underscoring', 'understand', 'understanding', 'understands', 'understated', 'undertaking', 'undoubtedly', 'unentertaining', 'unequivocally', 'uneven', 'uneventful', 'unexpected', 'unexpectedly', 'unfaithful', 'unfakable', 'unfilmable', 'unflinching', 'unfocused', 'unfolding', 'unfolds', 'unforced', 'unforgettable', 'unfortunately', 'unfulfilling', 'unfunny', 'ungainly', 'unhibited', 'uni', 'uniformly', 'unimaginative', 'unimaginatively', 'unimpressive', 'unimpressively', 'uninflected', 'uninhibited', 'uninspired', 'uninspiring', 'unintentionally', 'uninteresting', 'unique', 'uniquely', 'universal', 'universe', 'unleashes', 'unlikable', 'unlike', 'unlikely', 'unmemorable', 'unmotivated', 'unnecessary', 'unnerving', 'unoriginal', 'unpersuasive', 'unpleasant', 'unpredictable', 'unpretentious', 'unrealized', 'unrecoverable', 'unremittingly', 'unrewarding', 'unsatisfying', 'unschooled', 'unsentimental', 'unsettling', 'unsuccessful', 'unsuspecting', 'unsympathetic', 'untalented', 'unusual', 'unusually', 'unwatchable', 'update', 'updating', 'uplifting', 'upon', 'upper', 'ups', 'upscale', 'urban', 'urge', 'urgently', 'urine', 'us', 'use', 'used', 'useless', 'uses', 'using', 'usual', 'usually', 'utilizing', 'utter', 'utterly', 'vacation', 'vague', 'vagueness', 'vain', 'valiant', 'valiantly', 'valley', 'value', 'values', 'vampire', 'van', 'vanessa', 'vanity', 'vapid', 'vaporize', 'variation', 'variety', 'various', 'vastly', 'vehicle', 'vein', 'venice', 'ventura', 'venture', 'venturesome', 'veracity', 'verbal', 'versatile', 'version', 'verve', 'veteran', 'via', 'vibrance', 'vibrant', 'vicious', 'victim', 'video', 'videodrome', 'videos', 'videotape', 'view', 'viewed', 'viewer', 'viewers', 'viewing', 'vignettes', 'vile', 'villain', 'villains', 'vincent', 'vintage', 'violence', 'violent', 'violently', 'virtually', 'virtuoso', 'virulent', 'virulently', 'visceral', 'viscerally', 'visible', 'vision', 'visit', 'visual', 'visualize', 'visually', 'visuals', 'vital', 'vitality', 'vivid', 'vividly', 'voice', 'volatile', 'volcano', 'vs', 'vulgar', 'wacky', 'wait', 'waiting', 'wal', 'walk', 'walked', 'walker', 'walking', 'wall', 'wallace', 'wallet', 'wallflower', 'wallop', 'waltz', 'wanders', 'wane', 'wang', 'wankery', 'wannabe', 'want', 'wanted', 'wanting', 'wants', 'war', 'warm', 'warming', 'warmth', 'warrior', 'warriors', 'wars', 'washington', 'waste', 'wasted', 'waster', 'wastes', 'wasting', 'watch', 'watchable', 'watching', 'water', 'waters', 'wattage', 'watts', 'wave', 'waves', 'way', 'ways', 'weak', 'weakly', 'wear', 'wearing', 'wears', 'weave', 'web', 'website', 'wedding', 'wednesday', 'week', 'weeks', 'weight', 'weird', 'weirdly', 'weirdo', 'welcome', 'welcomes', 'well', 'welled', 'welt', 'went', 'werner', 'western', 'wet', 'whale', 'whatever', 'whatsoever', 'wheezy', 'whenever', 'whether', 'whimsical', 'whimsy', 'whining', 'whiny', 'whirlwind', 'white', 'whodunit', 'whole', 'wholesome', 'wholly', 'whose', 'wicked', 'wickedly', 'wide', 'wife', 'wilco', 'wild', 'wilde', 'wildean', 'wildly', 'william', 'williams', 'willies', 'willing', 'willingness', 'willis', 'wilson', 'win', 'wind', 'window', 'winds', 'winner', 'winners', 'winning', 'wins', 'wisdom', 'wise', 'wised', 'wish', 'wishing', 'wistful', 'wit', 'witch', 'witherspoon', 'within', 'without', 'witless', 'witnessed', 'witted', 'witty', 'wo', 'woe', 'woefully', 'woman', 'women', 'wonder', 'wonderful', 'wonderfully', 'wondering', 'wonderment', 'wonderous', 'wonders', 'wondrous', 'wondrously', 'woo', 'wood', 'wooden', 'woody', 'woolly', 'word', 'words', 'wore', 'work', 'worked', 'working', 'works', 'workshop', 'world', 'worldly', 'worn', 'worries', 'worry', 'worse', 'worst', 'worth', 'worthless', 'worthwhile', 'worthy', 'would', 'wound', 'woven', 'wow', 'wrapped', 'wreck', 'wreckage', 'wrenching', 'wretched', 'wretchedly', 'writer', 'writing', 'written', 'wrong', 'wrote', 'wrought', 'wry', 'xerox', 'xxx', 'ya', 'yahoo', 'yale', 'yarn', 'ye', 'year', 'years', 'yellow', 'yes', 'yesterday', 'yet', 'yiddish', 'york', 'young', 'younger', 'youth', 'yu', 'zany', 'zero', 'zingers', 'zings', 'zippy', 'zombie', 'zone', 'zzzzzzzzz']\n"
          ],
          "name": "stdout"
        }
      ]
    },
    {
      "cell_type": "code",
      "metadata": {
        "id": "Q1N_K2UeJY3k",
        "colab_type": "code",
        "outputId": "41e9be7c-b75c-4ff3-c625-7f26fc9979c2",
        "colab": {
          "base_uri": "https://localhost:8080/",
          "height": 35
        }
      },
      "source": [
        "###train data\n",
        "X=train_data_features\n",
        "y=filter_train[\"Sentiment\"]\n",
        "\n",
        "from sklearn.model_selection import train_test_split\n",
        "X_train, x_test,y_train,y_test=train_test_split(X,y,\n",
        "                                          test_size=0.3,random_state=1)\n",
        "\n",
        "from sklearn.linear_model import LogisticRegression\n",
        "\n",
        "logmodel=LogisticRegression()\n",
        "logmodel.fit(X_train,y_train)\n",
        "prediction=logmodel.predict(x_test)\n",
        "\n",
        "from sklearn.metrics import accuracy_score\n",
        "accuracy_score(y_test,prediction)\n"
      ],
      "execution_count": 105,
      "outputs": [
        {
          "output_type": "execute_result",
          "data": {
            "text/plain": [
              "0.9252661752661753"
            ]
          },
          "metadata": {
            "tags": []
          },
          "execution_count": 105
        }
      ]
    }
  ]
}